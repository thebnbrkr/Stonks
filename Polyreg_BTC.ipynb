{
  "nbformat": 4,
  "nbformat_minor": 0,
  "metadata": {
    "colab": {
      "name": "Polyreg_BTC.ipynb",
      "provenance": []
    },
    "kernelspec": {
      "name": "python3",
      "display_name": "Python 3"
    },
    "language_info": {
      "name": "python"
    }
  },
  "cells": [
    {
      "cell_type": "code",
      "metadata": {
        "id": "KzCFDNENif4F"
      },
      "source": [
        "import pandas as pd\n",
        "import numpy as np\n",
        "import matplotlib.pyplot as plt\n",
        "from sklearn.linear_model import LinearRegression\n",
        "from sklearn.preprocessing import PolynomialFeatures"
      ],
      "execution_count": 14,
      "outputs": []
    },
    {
      "cell_type": "code",
      "metadata": {
        "colab": {
          "base_uri": "https://localhost:8080/"
        },
        "id": "XUq9AXH4iy3z",
        "outputId": "89740c31-3da6-4d69-c513-a237b34900d1"
      },
      "source": [
        "df = pd.read_csv(\"/content/BTC 2 Months.csv\")\n",
        "print(df)"
      ],
      "execution_count": 15,
      "outputs": [
        {
          "output_type": "stream",
          "text": [
            "          Date         Open         High  ...    Adj Close        Volume  Days\n",
            "0   01-01-2021  28994.00977  29600.62695  ...  29374.15234  4.073030e+10     1\n",
            "1   02-01-2021  29376.45508  33155.11719  ...  32127.26758  6.786542e+10     2\n",
            "2   03-01-2021  32129.40820  34608.55859  ...  32782.02344  7.866524e+10     3\n",
            "3   04-01-2021  32810.94922  33440.21875  ...  31971.91406  8.116348e+10     4\n",
            "4   05-01-2021  31977.04102  34437.58984  ...  33992.42969  6.754732e+10     5\n",
            "5   06-01-2021  34013.61328  36879.69922  ...  36824.36328  7.528943e+10     6\n",
            "6   07-01-2021  36833.87500  40180.36719  ...  39371.04297  8.476214e+10     7\n",
            "7   08-01-2021  39381.76563  41946.73828  ...  40797.60938  8.810752e+10     8\n",
            "8   09-01-2021  40788.64063  41436.35156  ...  40254.54688  6.198416e+10     9\n",
            "9   10-01-2021  40254.21875  41420.19141  ...  38356.44141  7.998075e+10    10\n",
            "10  11-01-2021  38346.53125  38346.53125  ...  35566.65625  1.230000e+11    11\n",
            "11  12-01-2021  35516.35938  36568.52734  ...  33922.96094  7.477328e+10    12\n",
            "12  13-01-2021  33915.12109  37599.96094  ...  37316.35938  6.936432e+10    13\n",
            "13  14-01-2021  37325.10938  39966.40625  ...  39187.32813  6.361599e+10    14\n",
            "14  15-01-2021  39156.70703  39577.71094  ...  36825.36719  6.776076e+10    15\n",
            "15  16-01-2021  36821.64844  37864.36719  ...  36178.14063  5.770619e+10    16\n",
            "16  17-01-2021  36163.64844  36722.35156  ...  35791.27734  5.235985e+10    17\n",
            "17  18-01-2021  35792.23828  37299.28516  ...  36630.07422  4.951170e+10    18\n",
            "18  19-01-2021  36642.23438  37755.89063  ...  36069.80469  5.724420e+10    19\n",
            "19  20-01-2021  36050.11328  36378.32813  ...  35547.75000  6.683457e+10    20\n",
            "20  21-01-2021  35549.39844  35552.67969  ...  30825.69922  7.564307e+10    21\n",
            "21  22-01-2021  30817.62500  33811.85156  ...  33005.76172  7.720727e+10    22\n",
            "22  23-01-2021  32985.75781  33360.97656  ...  32067.64258  4.835474e+10    23\n",
            "23  24-01-2021  32064.37695  32944.00781  ...  32289.37891  4.864383e+10    24\n",
            "24  25-01-2021  32285.79883  34802.74219  ...  32366.39258  5.989705e+10    25\n",
            "25  26-01-2021  32358.61328  32794.55078  ...  32569.84961  6.025542e+10    26\n",
            "26  27-01-2021  32564.02930  32564.02930  ...  30432.54688  6.257676e+10    27\n",
            "27  28-01-2021  30441.04102  31891.30078  ...  31649.60547  7.894816e+10    28\n",
            "28  29-01-2021  34318.67188  38406.26172  ...  34316.38672  1.180000e+11    29\n",
            "29  30-01-2021  34295.93359  34834.70703  ...  34269.52344  6.514183e+10    30\n",
            "30  31-01-2021  34270.87891  34288.33203  ...  33114.35938  5.275454e+10    31\n",
            "31  01-02-2021  33114.57813  34638.21484  ...  33537.17578  6.140040e+10    32\n",
            "32  02-02-2021  33533.19922  35896.88281  ...  35510.28906  6.308859e+10    33\n",
            "33  03-02-2021  35510.82031  37480.18750  ...  37472.08984  6.116682e+10    34\n",
            "34  04-02-2021  37475.10547  38592.17578  ...  36926.06641  6.883807e+10    35\n",
            "35  05-02-2021  36931.54688  38225.90625  ...  38144.30859  5.859807e+10    36\n",
            "36  06-02-2021  38138.38672  40846.54688  ...  39266.01172  7.132603e+10    37\n",
            "37  07-02-2021  39250.19141  39621.83594  ...  38903.44141  6.550064e+10    38\n",
            "38  08-02-2021  38886.82813  46203.92969  ...  46196.46484  1.010000e+11    39\n",
            "39  09-02-2021  46184.99219  48003.72266  ...  46481.10547  9.180985e+10    40\n",
            "40  10-02-2021  46469.76172  47145.56641  ...  44918.18359  8.730109e+10    41\n",
            "41  11-02-2021  44898.71094  48463.46875  ...  47909.33203  8.138891e+10    42\n",
            "42  12-02-2021  47877.03516  48745.73438  ...  47504.85156  7.655504e+10    43\n",
            "43  13-02-2021  47491.20313  48047.74609  ...  47105.51563  7.025046e+10    44\n",
            "44  14-02-2021  47114.50781  49487.64063  ...  48717.28906  7.124868e+10    45\n",
            "45  15-02-2021  48696.53516  48875.57031  ...  47945.05859  7.706990e+10    46\n",
            "46  16-02-2021  47944.45703  50341.10156  ...  49199.87109  7.704958e+10    47\n",
            "47  17-02-2021  49207.27734  52533.91406  ...  52149.00781  8.082055e+10    48\n",
            "48  18-02-2021  52140.97266  52474.10547  ...  51679.79688  5.205472e+10    49\n",
            "49  19-02-2021  51675.98047  56113.65234  ...  55888.13281  6.349550e+10    50\n",
            "50  20-02-2021  55887.33594  57505.22656  ...  56099.51953  6.814546e+10    51\n",
            "51  21-02-2021  56068.56641  58330.57031  ...  57539.94531  5.189759e+10    52\n",
            "52  22-02-2021  57532.73828  57533.39063  ...  54207.32031  9.205242e+10    53\n",
            "53  23-02-2021  54204.92969  54204.92969  ...  48824.42578  1.060000e+11    54\n",
            "54  24-02-2021  48835.08594  51290.13672  ...  49705.33203  6.369552e+10    55\n",
            "55  25-02-2021  49709.08203  51948.96875  ...  47093.85156  5.450657e+10    56\n",
            "56  26-02-2021  47180.46484  48370.78516  ...  46339.76172  3.510000e+11    57\n",
            "57  27-02-2021  46344.77344  48253.26953  ...  46188.45313  4.591095e+10    58\n",
            "58  28-02-2021  46194.01563  46716.42969  ...  45137.76953  5.344389e+10    59\n",
            "59  01-03-2021  45159.50391  49784.01563  ...  49631.24219  5.389130e+10    60\n",
            "\n",
            "[60 rows x 8 columns]\n"
          ],
          "name": "stdout"
        }
      ]
    },
    {
      "cell_type": "code",
      "metadata": {
        "colab": {
          "base_uri": "https://localhost:8080/",
          "height": 282
        },
        "id": "5Z-uk5GojG_z",
        "outputId": "277c8f68-4d84-484f-e2de-e100950f2cbd"
      },
      "source": [
        "%matplotlib inline\n",
        "plt.scatter( df[\"Days\"], df[\"Adj Close\"])"
      ],
      "execution_count": 16,
      "outputs": [
        {
          "output_type": "execute_result",
          "data": {
            "text/plain": [
              "<matplotlib.collections.PathCollection at 0x7f84358cb4d0>"
            ]
          },
          "metadata": {
            "tags": []
          },
          "execution_count": 16
        },
        {
          "output_type": "display_data",
          "data": {
            "image/png": "[encoded data removed]",
            "text/plain": [
              "<Figure size 432x288 with 1 Axes>"
            ]
          },
          "metadata": {
            "tags": [],
            "needs_background": "light"
          }
        }
      ]
    },
    {
      "cell_type": "code",
      "metadata": {
        "colab": {
          "base_uri": "https://localhost:8080/"
        },
        "id": "4J6-PgKNjrdD",
        "outputId": "57cefbb0-062a-4610-d46b-7ddd1aa1a3a5"
      },
      "source": [
        "x = df[\"Days\"].values\n",
        "y = df[\"Adj Close\"].values\n",
        "\n",
        "print(x)\n",
        "print(y)"
      ],
      "execution_count": 17,
      "outputs": [
        {
          "output_type": "stream",
          "text": [
            "[ 1  2  3  4  5  6  7  8  9 10 11 12 13 14 15 16 17 18 19 20 21 22 23 24\n",
            " 25 26 27 28 29 30 31 32 33 34 35 36 37 38 39 40 41 42 43 44 45 46 47 48\n",
            " 49 50 51 52 53 54 55 56 57 58 59 60]\n",
            "[29374.15234 32127.26758 32782.02344 31971.91406 33992.42969 36824.36328\n",
            " 39371.04297 40797.60938 40254.54688 38356.44141 35566.65625 33922.96094\n",
            " 37316.35938 39187.32813 36825.36719 36178.14063 35791.27734 36630.07422\n",
            " 36069.80469 35547.75    30825.69922 33005.76172 32067.64258 32289.37891\n",
            " 32366.39258 32569.84961 30432.54688 31649.60547 34316.38672 34269.52344\n",
            " 33114.35938 33537.17578 35510.28906 37472.08984 36926.06641 38144.30859\n",
            " 39266.01172 38903.44141 46196.46484 46481.10547 44918.18359 47909.33203\n",
            " 47504.85156 47105.51563 48717.28906 47945.05859 49199.87109 52149.00781\n",
            " 51679.79688 55888.13281 56099.51953 57539.94531 54207.32031 48824.42578\n",
            " 49705.33203 47093.85156 46339.76172 46188.45313 45137.76953 49631.24219]\n"
          ],
          "name": "stdout"
        }
      ]
    },
    {
      "cell_type": "code",
      "metadata": {
        "colab": {
          "base_uri": "https://localhost:8080/"
        },
        "id": "xq-4YjrSkyOj",
        "outputId": "ad5970dd-4d64-4bd8-8aa4-99a9603a986f"
      },
      "source": [
        "x = x.reshape(-1,1)\n",
        "print(x)"
      ],
      "execution_count": 18,
      "outputs": [
        {
          "output_type": "stream",
          "text": [
            "[[ 1]\n",
            " [ 2]\n",
            " [ 3]\n",
            " [ 4]\n",
            " [ 5]\n",
            " [ 6]\n",
            " [ 7]\n",
            " [ 8]\n",
            " [ 9]\n",
            " [10]\n",
            " [11]\n",
            " [12]\n",
            " [13]\n",
            " [14]\n",
            " [15]\n",
            " [16]\n",
            " [17]\n",
            " [18]\n",
            " [19]\n",
            " [20]\n",
            " [21]\n",
            " [22]\n",
            " [23]\n",
            " [24]\n",
            " [25]\n",
            " [26]\n",
            " [27]\n",
            " [28]\n",
            " [29]\n",
            " [30]\n",
            " [31]\n",
            " [32]\n",
            " [33]\n",
            " [34]\n",
            " [35]\n",
            " [36]\n",
            " [37]\n",
            " [38]\n",
            " [39]\n",
            " [40]\n",
            " [41]\n",
            " [42]\n",
            " [43]\n",
            " [44]\n",
            " [45]\n",
            " [46]\n",
            " [47]\n",
            " [48]\n",
            " [49]\n",
            " [50]\n",
            " [51]\n",
            " [52]\n",
            " [53]\n",
            " [54]\n",
            " [55]\n",
            " [56]\n",
            " [57]\n",
            " [58]\n",
            " [59]\n",
            " [60]]\n"
          ],
          "name": "stdout"
        }
      ]
    },
    {
      "cell_type": "code",
      "metadata": {
        "id": "t4b-ETFzk-qL"
      },
      "source": [
        "poly = PolynomialFeatures(degree = 4)"
      ],
      "execution_count": 19,
      "outputs": []
    },
    {
      "cell_type": "code",
      "metadata": {
        "id": "EvCzoNaRlL_M"
      },
      "source": [
        "x_poly = poly.fit_transform(x)"
      ],
      "execution_count": 20,
      "outputs": []
    },
    {
      "cell_type": "code",
      "metadata": {
        "colab": {
          "base_uri": "https://localhost:8080/"
        },
        "id": "e8jiCPnAld3P",
        "outputId": "da09eb32-0801-4295-fac4-9c7e219e92da"
      },
      "source": [
        "poly.fit(x_poly, y)"
      ],
      "execution_count": 21,
      "outputs": [
        {
          "output_type": "execute_result",
          "data": {
            "text/plain": [
              "PolynomialFeatures(degree=4, include_bias=True, interaction_only=False,\n",
              "                   order='C')"
            ]
          },
          "metadata": {
            "tags": []
          },
          "execution_count": 21
        }
      ]
    },
    {
      "cell_type": "code",
      "metadata": {
        "colab": {
          "base_uri": "https://localhost:8080/"
        },
        "id": "SIotd4tqlpuj",
        "outputId": "7e65156e-25b6-42ac-f020-50be2e43d3f0"
      },
      "source": [
        "lin = LinearRegression()\n",
        "lin.fit(x_poly, y)"
      ],
      "execution_count": 22,
      "outputs": [
        {
          "output_type": "execute_result",
          "data": {
            "text/plain": [
              "LinearRegression(copy_X=True, fit_intercept=True, n_jobs=None, normalize=False)"
            ]
          },
          "metadata": {
            "tags": []
          },
          "execution_count": 22
        }
      ]
    },
    {
      "cell_type": "code",
      "metadata": {
        "colab": {
          "base_uri": "https://localhost:8080/"
        },
        "id": "FfVpDsqFlz0j",
        "outputId": "d9b0d9e6-36c5-4c6c-a7cf-bb3b182134b1"
      },
      "source": [
        "y_pred = lin.predict(x_poly)\n",
        "print(y_pred)"
      ],
      "execution_count": 32,
      "outputs": [
        {
          "output_type": "stream",
          "text": [
            "[29223.30457191 31436.96141672 33259.41379293 34726.6830948\n",
            " 35873.43068472 36732.95789325 37337.20601908 37716.75632906\n",
            " 37900.83005816 37917.28840951 37792.6325544  37552.00363225\n",
            " 37219.18275062 36816.59098523 36365.28937994 35884.97894674\n",
            " 35394.0006658  34909.33548541 34446.604322   34020.06806017\n",
            " 33642.62755264 33325.82362031 33079.83705218 32913.48860543\n",
            " 32834.23900538 32848.18894548 32960.07908733 33173.29006071\n",
            " 33489.84246349 33910.39686172 34434.25378959 35059.35374944\n",
            " 35782.27721174 36598.24461512 37501.11636636 38483.39284035\n",
            " 39536.21438018 40649.36129704 41811.25387029 43008.95234743\n",
            " 44228.1569441  45453.20784409 46667.08519933 47851.40912992\n",
            " 48986.43972407 50051.07703816 51022.8610967  51877.97189236\n",
            " 52591.22938595 53136.09350642 53484.66415087 53607.68118455\n",
            " 53474.52444085 53053.2137213  52310.4087956  51211.40940155\n",
            " 49720.15524515 47799.22600051 45409.84130989 42511.86078371]\n"
          ],
          "name": "stdout"
        }
      ]
    },
    {
      "cell_type": "code",
      "metadata": {
        "colab": {
          "base_uri": "https://localhost:8080/",
          "height": 282
        },
        "id": "WhpbD3j6mDOw",
        "outputId": "94135472-760b-42d0-f5c9-762ae701050d"
      },
      "source": [
        "plt.scatter(x,y, color = \"Blue\")\n",
        "plt.plot(y_pred, color = \"Red\")"
      ],
      "execution_count": 29,
      "outputs": [
        {
          "output_type": "execute_result",
          "data": {
            "text/plain": [
              "[<matplotlib.lines.Line2D at 0x7f84336eaf90>]"
            ]
          },
          "metadata": {
            "tags": []
          },
          "execution_count": 29
        },
        {
          "output_type": "display_data",
          "data": {
            "image/png": "[encoded data removed]",
            "text/plain": [
              "<Figure size 432x288 with 1 Axes>"
            ]
          },
          "metadata": {
            "tags": [],
            "needs_background": "light"
          }
        }
      ]
    },
    {
      "cell_type": "code",
      "metadata": {
        "colab": {
          "base_uri": "https://localhost:8080/"
        },
        "id": "C9eGugqGm72b",
        "outputId": "a2f6c28d-fd96-4ac3-a3a2-7e99724392ae"
      },
      "source": [
        "from sklearn.metrics import r2_score, mean_squared_error\n",
        "r2_score(y,y_pred)"
      ],
      "execution_count": 35,
      "outputs": [
        {
          "output_type": "execute_result",
          "data": {
            "text/plain": [
              "0.9197472112487228"
            ]
          },
          "metadata": {
            "tags": []
          },
          "execution_count": 35
        }
      ]
    }
  ]
}