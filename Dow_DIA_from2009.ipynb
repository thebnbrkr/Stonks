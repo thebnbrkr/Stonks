{
  "nbformat": 4,
  "nbformat_minor": 0,
  "metadata": {
    "colab": {
      "name": "Untitled5.ipynb",
      "provenance": [],
      "collapsed_sections": []
    },
    "kernelspec": {
      "name": "python3",
      "display_name": "Python 3"
    },
    "language_info": {
      "name": "python"
    }
  },
  "cells": [
    {
      "cell_type": "code",
      "metadata": {
        "colab": {
          "base_uri": "https://localhost:8080/"
        },
        "id": "gqmoqXIEq3BH",
        "outputId": "26f41458-c314-41ce-f4a4-51f2d8482a24"
      },
      "source": [
        "pip install yfinance"
      ],
      "execution_count": 29,
      "outputs": [
        {
          "output_type": "stream",
          "text": [
            "Requirement already satisfied: yfinance in /usr/local/lib/python3.7/dist-packages (0.1.59)\n",
            "Requirement already satisfied: pandas>=0.24 in /usr/local/lib/python3.7/dist-packages (from yfinance) (1.1.5)\n",
            "Requirement already satisfied: requests>=2.20 in /usr/local/lib/python3.7/dist-packages (from yfinance) (2.23.0)\n",
            "Requirement already satisfied: multitasking>=0.0.7 in /usr/local/lib/python3.7/dist-packages (from yfinance) (0.0.9)\n",
            "Requirement already satisfied: numpy>=1.15 in /usr/local/lib/python3.7/dist-packages (from yfinance) (1.19.5)\n",
            "Requirement already satisfied: lxml>=4.5.1 in /usr/local/lib/python3.7/dist-packages (from yfinance) (4.6.3)\n",
            "Requirement already satisfied: pytz>=2017.2 in /usr/local/lib/python3.7/dist-packages (from pandas>=0.24->yfinance) (2018.9)\n",
            "Requirement already satisfied: python-dateutil>=2.7.3 in /usr/local/lib/python3.7/dist-packages (from pandas>=0.24->yfinance) (2.8.1)\n",
            "Requirement already satisfied: idna<3,>=2.5 in /usr/local/lib/python3.7/dist-packages (from requests>=2.20->yfinance) (2.10)\n",
            "Requirement already satisfied: chardet<4,>=3.0.2 in /usr/local/lib/python3.7/dist-packages (from requests>=2.20->yfinance) (3.0.4)\n",
            "Requirement already satisfied: urllib3!=1.25.0,!=1.25.1,<1.26,>=1.21.1 in /usr/local/lib/python3.7/dist-packages (from requests>=2.20->yfinance) (1.24.3)\n",
            "Requirement already satisfied: certifi>=2017.4.17 in /usr/local/lib/python3.7/dist-packages (from requests>=2.20->yfinance) (2020.12.5)\n",
            "Requirement already satisfied: six>=1.5 in /usr/local/lib/python3.7/dist-packages (from python-dateutil>=2.7.3->pandas>=0.24->yfinance) (1.15.0)\n"
          ],
          "name": "stdout"
        }
      ]
    },
    {
      "cell_type": "code",
      "metadata": {
        "id": "7ffTQ6t-q88Y"
      },
      "source": [
        "import pandas as pd\n",
        "import yfinance as yf\n",
        "import matplotlib.pyplot as plt\n",
        "from sklearn import linear_model"
      ],
      "execution_count": null,
      "outputs": []
    },
    {
      "cell_type": "code",
      "metadata": {
        "colab": {
          "base_uri": "https://localhost:8080/"
        },
        "id": "Z-hol1KUrfIR",
        "outputId": "b0035cd0-cea1-4ddc-eecb-bf07c03214fc"
      },
      "source": [
        "d = yf.download(\"DIA\", start=\"2009-03-01\", end=\"2021-04-30\")\n",
        "print(d)\n",
        "#d.to_csv(\"/content/Dow_DIA_from2009.csv\")\n",
        "df = pd.read_csv(\"/content/Dow_DIA_from2009.csv\")\n",
        "print(\"\")\n",
        "print(df)"
      ],
      "execution_count": 65,
      "outputs": [
        {
          "output_type": "stream",
          "text": [
            "\r[*********************100%***********************]  1 of 1 completed\n",
            "                  Open        High  ...   Adj Close    Volume\n",
            "Date                                ...                      \n",
            "2009-03-02   69.650002   69.820000  ...   51.030704  36931600\n",
            "2009-03-03   68.480003   68.599998  ...   50.564247  30799800\n",
            "2009-03-04   68.349998   69.879997  ...   51.737923  31996400\n",
            "2009-03-05   67.500000   68.050003  ...   49.706593  35056100\n",
            "2009-03-06   66.540001   67.629997  ...   50.030109  35830500\n",
            "...                ...         ...  ...         ...       ...\n",
            "2021-04-23  337.750000  341.589996  ...  340.429993   3613900\n",
            "2021-04-26  341.149994  341.480011  ...  339.869995   2090900\n",
            "2021-04-27  339.600006  340.429993  ...  339.829987   2732700\n",
            "2021-04-28  339.230011  339.489990  ...  338.369995   3025100\n",
            "2021-04-29  339.890015  340.859985  ...  340.570007   3688400\n",
            "\n",
            "[3063 rows x 6 columns]\n",
            "\n",
            "            Date        Open        High  ...   Adj Close    Volume  Days\n",
            "0     02-03-2009   69.650002   69.820000  ...   51.030704  36931600     1\n",
            "1     03-03-2009   68.480003   68.599998  ...   50.564247  30799800     2\n",
            "2     04-03-2009   68.349998   69.879997  ...   51.737923  31996400     3\n",
            "3     05-03-2009   67.500000   68.050003  ...   49.706593  35056100     4\n",
            "4     06-03-2009   66.540001   67.629997  ...   50.030109  35830500     5\n",
            "...          ...         ...         ...  ...         ...       ...   ...\n",
            "3058  23-04-2021  337.750000  341.589996  ...  340.429993   3613900  3059\n",
            "3059  26-04-2021  341.149994  341.480011  ...  339.869995   2090900  3060\n",
            "3060  27-04-2021  339.600006  340.429993  ...  339.829987   2732700  3061\n",
            "3061  28-04-2021  339.230011  339.489990  ...  338.369995   3025100  3062\n",
            "3062  29-04-2021  339.890015  340.859985  ...  340.570007   3688400  3063\n",
            "\n",
            "[3063 rows x 8 columns]\n"
          ],
          "name": "stdout"
        }
      ]
    },
    {
      "cell_type": "code",
      "metadata": {
        "colab": {
          "base_uri": "https://localhost:8080/",
          "height": 296
        },
        "id": "oBq6-lV5CuLg",
        "outputId": "3f26b2bb-7127-4e24-a83d-c7f42a3653ed"
      },
      "source": [
        "%matplotlib inline\n",
        "plt.xlabel(\"Days\")\n",
        "plt.ylabel(\"Price (US$)\")\n",
        "plt.scatter(df[\"Days\"], df[\"Open\"])"
      ],
      "execution_count": 66,
      "outputs": [
        {
          "output_type": "execute_result",
          "data": {
            "text/plain": [
              "<matplotlib.collections.PathCollection at 0x7f3023edf510>"
            ]
          },
          "metadata": {
            "tags": []
          },
          "execution_count": 66
        },
        {
          "output_type": "display_data",
          "data": {
            "image/png": "[encoded data removed]",
            "text/plain": [
              "<Figure size 432x288 with 1 Axes>"
            ]
          },
          "metadata": {
            "tags": [],
            "needs_background": "light"
          }
        }
      ]
    },
    {
      "cell_type": "code",
      "metadata": {
        "colab": {
          "base_uri": "https://localhost:8080/"
        },
        "id": "18d_IK_1FQKY",
        "outputId": "fe8bfe34-83a7-434f-815e-d738a2db2d2e"
      },
      "source": [
        "reg = linear_model.LinearRegression()\n",
        "reg.fit(df[[\"Days\"]], df[\"Open\"])"
      ],
      "execution_count": 67,
      "outputs": [
        {
          "output_type": "execute_result",
          "data": {
            "text/plain": [
              "LinearRegression(copy_X=True, fit_intercept=True, n_jobs=None, normalize=False)"
            ]
          },
          "metadata": {
            "tags": []
          },
          "execution_count": 67
        }
      ]
    },
    {
      "cell_type": "code",
      "metadata": {
        "colab": {
          "base_uri": "https://localhost:8080/"
        },
        "id": "aqv1h3p_Flv0",
        "outputId": "92eb4028-0b4e-4631-fd5b-7405010a1161"
      },
      "source": [
        "print(reg.predict([[3063]]))"
      ],
      "execution_count": 70,
      "outputs": [
        {
          "output_type": "stream",
          "text": [
            "[288.03749966]\n"
          ],
          "name": "stdout"
        }
      ]
    }
  ]
}