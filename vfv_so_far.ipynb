{
  "nbformat": 4,
  "nbformat_minor": 0,
  "metadata": {
    "colab": {
      "name": "Untitled5.ipynb",
      "provenance": [],
      "collapsed_sections": []
    },
    "kernelspec": {
      "name": "python3",
      "display_name": "Python 3"
    },
    "language_info": {
      "name": "python"
    }
  },
  "cells": [
    {
      "cell_type": "code",
      "metadata": {
        "colab": {
          "base_uri": "https://localhost:8080/"
        },
        "id": "yTIISO2YiJvs",
        "outputId": "9b986ecb-abe5-4b60-a285-0a089b9252e9"
      },
      "source": [
        "pip install yfinance"
      ],
      "execution_count": 2,
      "outputs": [
        {
          "output_type": "stream",
          "text": [
            "Collecting yfinance\n",
            "  Downloading https://files.pythonhosted.org/packages/a7/ee/315752b9ef281ba83c62aa7ec2e2074f85223da6e7e74efb4d3e11c0f510/yfinance-0.1.59.tar.gz\n",
            "Requirement already satisfied: pandas>=0.24 in /usr/local/lib/python3.7/dist-packages (from yfinance) (1.1.5)\n",
            "Requirement already satisfied: numpy>=1.15 in /usr/local/lib/python3.7/dist-packages (from yfinance) (1.19.5)\n",
            "Requirement already satisfied: requests>=2.20 in /usr/local/lib/python3.7/dist-packages (from yfinance) (2.23.0)\n",
            "Requirement already satisfied: multitasking>=0.0.7 in /usr/local/lib/python3.7/dist-packages (from yfinance) (0.0.9)\n",
            "Collecting lxml>=4.5.1\n",
            "\u001b[?25l  Downloading https://files.pythonhosted.org/packages/cf/4d/6537313bf58fe22b508f08cf3eb86b29b6f9edf68e00454224539421073b/lxml-4.6.3-cp37-cp37m-manylinux1_x86_64.whl (5.5MB)\n",
            "\u001b[K     |████████████████████████████████| 5.5MB 7.4MB/s \n",
            "\u001b[?25hRequirement already satisfied: pytz>=2017.2 in /usr/local/lib/python3.7/dist-packages (from pandas>=0.24->yfinance) (2018.9)\n",
            "Requirement already satisfied: python-dateutil>=2.7.3 in /usr/local/lib/python3.7/dist-packages (from pandas>=0.24->yfinance) (2.8.1)\n",
            "Requirement already satisfied: chardet<4,>=3.0.2 in /usr/local/lib/python3.7/dist-packages (from requests>=2.20->yfinance) (3.0.4)\n",
            "Requirement already satisfied: certifi>=2017.4.17 in /usr/local/lib/python3.7/dist-packages (from requests>=2.20->yfinance) (2020.12.5)\n",
            "Requirement already satisfied: urllib3!=1.25.0,!=1.25.1,<1.26,>=1.21.1 in /usr/local/lib/python3.7/dist-packages (from requests>=2.20->yfinance) (1.24.3)\n",
            "Requirement already satisfied: idna<3,>=2.5 in /usr/local/lib/python3.7/dist-packages (from requests>=2.20->yfinance) (2.10)\n",
            "Requirement already satisfied: six>=1.5 in /usr/local/lib/python3.7/dist-packages (from python-dateutil>=2.7.3->pandas>=0.24->yfinance) (1.15.0)\n",
            "Building wheels for collected packages: yfinance\n",
            "  Building wheel for yfinance (setup.py) ... \u001b[?25l\u001b[?25hdone\n",
            "  Created wheel for yfinance: filename=yfinance-0.1.59-py2.py3-none-any.whl size=23442 sha256=d29289592492b4d28bb2ef0939b3a2aebed58725bcf2080940d4d9fc02ec3c9b\n",
            "  Stored in directory: /root/.cache/pip/wheels/f8/2a/0f/4b5a86e1d52e451757eb6bc17fd899629f0925c777741b6d04\n",
            "Successfully built yfinance\n",
            "Installing collected packages: lxml, yfinance\n",
            "  Found existing installation: lxml 4.2.6\n",
            "    Uninstalling lxml-4.2.6:\n",
            "      Successfully uninstalled lxml-4.2.6\n",
            "Successfully installed lxml-4.6.3 yfinance-0.1.59\n"
          ],
          "name": "stdout"
        }
      ]
    },
    {
      "cell_type": "code",
      "metadata": {
        "id": "4ouRCUH9iX2w"
      },
      "source": [
        "import pandas as pd\n",
        "import yfinance as yf\n",
        "import matplotlib.pyplot as plt\n",
        "from sklearn import linear_model"
      ],
      "execution_count": 5,
      "outputs": []
    },
    {
      "cell_type": "code",
      "metadata": {
        "colab": {
          "base_uri": "https://localhost:8080/"
        },
        "id": "vWdkmcPziyPR",
        "outputId": "74a6b032-98af-4620-e6db-6b8451c5a8eb"
      },
      "source": [
        "d = yf.download(\"VFV.TO\", start = \"2012-11-05\", end = \"2021-04-30\")\n",
        "print(d)"
      ],
      "execution_count": 6,
      "outputs": [
        {
          "output_type": "stream",
          "text": [
            "\r[*********************100%***********************]  1 of 1 completed\n",
            "                 Open       High        Low      Close  Adj Close  Volume\n",
            "Date                                                                     \n",
            "2012-11-08  24.730000  24.730000  24.690001  24.690001  21.586576    4400\n",
            "2012-11-09  24.500000  24.690001  24.490000  24.600000  21.507891    2900\n",
            "2012-11-12  24.600000  24.600000  24.570000  24.570000  21.481657    1200\n",
            "2012-11-13  24.500000  24.660000  24.500000  24.580000  21.490400    4600\n",
            "2012-11-14  24.430000  24.430000  24.410000  24.410000  21.341770    2600\n",
            "...               ...        ...        ...        ...        ...     ...\n",
            "2021-04-23  91.930000  92.820000  91.820000  92.559998  92.559998   85000\n",
            "2021-04-26  92.620003  92.620003  92.070000  92.120003  92.120003  140900\n",
            "2021-04-27  92.400002  92.400002  91.930000  92.089996  92.089996  110300\n",
            "2021-04-28  92.290001  92.290001  91.410004  91.410004  91.410004  171500\n",
            "2021-04-29  92.129997  92.129997  91.220001  91.750000  91.750000  135900\n",
            "\n",
            "[2126 rows x 6 columns]\n"
          ],
          "name": "stdout"
        }
      ]
    },
    {
      "cell_type": "code",
      "metadata": {
        "colab": {
          "base_uri": "https://localhost:8080/"
        },
        "id": "4uoZfO51kb8f",
        "outputId": "f65cb240-49c8-4316-9fc9-7c63e06955ee"
      },
      "source": [
        "df = pd.read_csv(\"/content/VFV_prices.csv\")\n",
        "print(df)"
      ],
      "execution_count": 21,
      "outputs": [
        {
          "output_type": "stream",
          "text": [
            "            Date       Open       High  ...  Adj Close  Volume  Days\n",
            "0     08-11-2012  24.730000  24.730000  ...  21.586576    4400     1\n",
            "1     09-11-2012  24.500000  24.690001  ...  21.507891    2900     2\n",
            "2     12-11-2012  24.600000  24.600000  ...  21.481657    1200     3\n",
            "3     13-11-2012  24.500000  24.660000  ...  21.490400    4600     4\n",
            "4     14-11-2012  24.430000  24.430000  ...  21.341770    2600     5\n",
            "...          ...        ...        ...  ...        ...     ...   ...\n",
            "2121  23-04-2021  91.930000  92.820000  ...  92.559998   85000  2122\n",
            "2122  26-04-2021  92.620003  92.620003  ...  92.120003  140900  2123\n",
            "2123  27-04-2021  92.400002  92.400002  ...  92.089996  110300  2124\n",
            "2124  28-04-2021  92.290001  92.290001  ...  91.410004  171500  2125\n",
            "2125  29-04-2021  92.129997  92.129997  ...  91.750000  135900  2126\n",
            "\n",
            "[2126 rows x 8 columns]\n"
          ],
          "name": "stdout"
        }
      ]
    },
    {
      "cell_type": "code",
      "metadata": {
        "colab": {
          "base_uri": "https://localhost:8080/",
          "height": 296
        },
        "id": "-mZcj2DunsDx",
        "outputId": "7301fde5-a28a-4dbf-f9ee-f32a34036a38"
      },
      "source": [
        "%matplotlib inline\n",
        "plt.xlabel(\"Days\")\n",
        "plt.ylabel(\"Prices(CA$)\")\n",
        "plt.scatter(df[\"Days\"], df[\"Adj Close\"])"
      ],
      "execution_count": 22,
      "outputs": [
        {
          "output_type": "execute_result",
          "data": {
            "text/plain": [
              "<matplotlib.collections.PathCollection at 0x7f30261c9b90>"
            ]
          },
          "metadata": {
            "tags": []
          },
          "execution_count": 22
        },
        {
          "output_type": "display_data",
          "data": {
            "image/png": "[encoded data removed]",
            "text/plain": [
              "<Figure size 432x288 with 1 Axes>"
            ]
          },
          "metadata": {
            "tags": [],
            "needs_background": "light"
          }
        }
      ]
    },
    {
      "cell_type": "code",
      "metadata": {
        "colab": {
          "base_uri": "https://localhost:8080/"
        },
        "id": "pJR16O6coDEM",
        "outputId": "662894bf-0290-4b46-8364-e80a9525c15d"
      },
      "source": [
        "reg = linear_model.LinearRegression()\n",
        "reg.fit(df[[\"Days\"]], df[\"Adj Close\"])"
      ],
      "execution_count": 23,
      "outputs": [
        {
          "output_type": "execute_result",
          "data": {
            "text/plain": [
              "LinearRegression(copy_X=True, fit_intercept=True, n_jobs=None, normalize=False)"
            ]
          },
          "metadata": {
            "tags": []
          },
          "execution_count": 23
        }
      ]
    },
    {
      "cell_type": "code",
      "metadata": {
        "colab": {
          "base_uri": "https://localhost:8080/"
        },
        "id": "6AQ33kuzold4",
        "outputId": "36924071-12c2-4886-ef66-09b95d27c377"
      },
      "source": [
        "print(reg.predict([[2127]]))"
      ],
      "execution_count": 28,
      "outputs": [
        {
          "output_type": "stream",
          "text": [
            "[81.34806555]\n"
          ],
          "name": "stdout"
        }
      ]
    }
  ]
}