{
  "nbformat": 4,
  "nbformat_minor": 0,
  "metadata": {
    "colab": {
      "name": "Polyreg_BTC_4months.ipynb",
      "provenance": []
    },
    "kernelspec": {
      "name": "python3",
      "display_name": "Python 3"
    },
    "language_info": {
      "name": "python"
    }
  },
  "cells": [
    {
      "cell_type": "code",
      "metadata": {
        "id": "oyZpP8c-qVIn"
      },
      "source": [
        "import pandas as pd\n",
        "import numpy as np\n",
        "import matplotlib.pyplot as plt\n",
        "from sklearn.linear_model import LinearRegression\n",
        "from sklearn.metrics import r2_score"
      ],
      "execution_count": 39,
      "outputs": []
    },
    {
      "cell_type": "code",
      "metadata": {
        "colab": {
          "base_uri": "https://localhost:8080/"
        },
        "id": "C7Nntav1q2OA",
        "outputId": "d487cccb-0382-48a7-833f-6d94250d5f84"
      },
      "source": [
        "pip install yfinance"
      ],
      "execution_count": 40,
      "outputs": [
        {
          "output_type": "stream",
          "text": [
            "Collecting yfinance\n",
            "  Downloading https://files.pythonhosted.org/packages/a7/ee/315752b9ef281ba83c62aa7ec2e2074f85223da6e7e74efb4d3e11c0f510/yfinance-0.1.59.tar.gz\n",
            "Requirement already satisfied: pandas>=0.24 in /usr/local/lib/python3.7/dist-packages (from yfinance) (1.1.5)\n",
            "Requirement already satisfied: numpy>=1.15 in /usr/local/lib/python3.7/dist-packages (from yfinance) (1.19.5)\n",
            "Requirement already satisfied: requests>=2.20 in /usr/local/lib/python3.7/dist-packages (from yfinance) (2.23.0)\n",
            "Requirement already satisfied: multitasking>=0.0.7 in /usr/local/lib/python3.7/dist-packages (from yfinance) (0.0.9)\n",
            "Collecting lxml>=4.5.1\n",
            "\u001b[?25l  Downloading https://files.pythonhosted.org/packages/30/c0/d0526314971fc661b083ab135747dc68446a3022686da8c16d25fcf6ef07/lxml-4.6.3-cp37-cp37m-manylinux2014_x86_64.whl (6.3MB)\n",
            "\u001b[K     |████████████████████████████████| 6.3MB 9.9MB/s \n",
            "\u001b[?25hRequirement already satisfied: pytz>=2017.2 in /usr/local/lib/python3.7/dist-packages (from pandas>=0.24->yfinance) (2018.9)\n",
            "Requirement already satisfied: python-dateutil>=2.7.3 in /usr/local/lib/python3.7/dist-packages (from pandas>=0.24->yfinance) (2.8.1)\n",
            "Requirement already satisfied: chardet<4,>=3.0.2 in /usr/local/lib/python3.7/dist-packages (from requests>=2.20->yfinance) (3.0.4)\n",
            "Requirement already satisfied: idna<3,>=2.5 in /usr/local/lib/python3.7/dist-packages (from requests>=2.20->yfinance) (2.10)\n",
            "Requirement already satisfied: certifi>=2017.4.17 in /usr/local/lib/python3.7/dist-packages (from requests>=2.20->yfinance) (2020.12.5)\n",
            "Requirement already satisfied: urllib3!=1.25.0,!=1.25.1,<1.26,>=1.21.1 in /usr/local/lib/python3.7/dist-packages (from requests>=2.20->yfinance) (1.24.3)\n",
            "Requirement already satisfied: six>=1.5 in /usr/local/lib/python3.7/dist-packages (from python-dateutil>=2.7.3->pandas>=0.24->yfinance) (1.15.0)\n",
            "Building wheels for collected packages: yfinance\n",
            "  Building wheel for yfinance (setup.py) ... \u001b[?25l\u001b[?25hdone\n",
            "  Created wheel for yfinance: filename=yfinance-0.1.59-py2.py3-none-any.whl size=23442 sha256=72b132eb81091e2749866453a72b9042bb32fa062421857801a65bf16341a2bc\n",
            "  Stored in directory: /root/.cache/pip/wheels/f8/2a/0f/4b5a86e1d52e451757eb6bc17fd899629f0925c777741b6d04\n",
            "Successfully built yfinance\n",
            "Installing collected packages: lxml, yfinance\n",
            "  Found existing installation: lxml 4.2.6\n",
            "    Uninstalling lxml-4.2.6:\n",
            "      Successfully uninstalled lxml-4.2.6\n",
            "Successfully installed lxml-4.6.3 yfinance-0.1.59\n"
          ],
          "name": "stdout"
        }
      ]
    },
    {
      "cell_type": "code",
      "metadata": {
        "colab": {
          "base_uri": "https://localhost:8080/"
        },
        "id": "cfYOS04Rr5w0",
        "outputId": "79cd6652-f284-4eaa-bf26-3c1a63505bbb"
      },
      "source": [
        "import yfinance as yf\n",
        "p = yf.download(\"BTC-USD\", start = \"2021-01-01\", end = \"2021-04-30\")\n",
        "df = pd.read_csv(\"/content/BTC 4 month data_og.csv\")\n",
        "#p.to_csv(\"/content/BTC 4 month data.csv\")\n",
        "print(df)"
      ],
      "execution_count": 47,
      "outputs": [
        {
          "output_type": "stream",
          "text": [
            "\r[*********************100%***********************]  1 of 1 completed\n",
            "           Date         Open         High  ...    Adj Close        Volume  Days\n",
            "0    2021-01-01  28994.00977  29600.62695  ...  29374.15234  4.073030e+10     1\n",
            "1    2021-01-02  29376.45508  33155.11719  ...  32127.26758  6.786542e+10     2\n",
            "2    2021-01-03  32129.40820  34608.55859  ...  32782.02344  7.866524e+10     3\n",
            "3    2021-01-04  32810.94922  33440.21875  ...  31971.91406  8.116348e+10     4\n",
            "4    2021-01-05  31977.04102  34437.58984  ...  33992.42969  6.754732e+10     5\n",
            "..          ...          ...          ...  ...          ...           ...   ...\n",
            "115  2021-04-26  49077.79297  54288.00391  ...  54021.75391  5.828404e+10   116\n",
            "116  2021-04-27  54030.30469  55416.96484  ...  55033.11719  4.944822e+10   117\n",
            "117  2021-04-28  55036.63672  56227.20703  ...  54824.70313  4.800057e+10   118\n",
            "118  2021-04-29  54858.08984  55115.84375  ...  53555.10938  4.608893e+10   119\n",
            "119  2021-04-30  53568.66406  57900.71875  ...  57750.17578  5.239593e+10   120\n",
            "\n",
            "[120 rows x 8 columns]\n"
          ],
          "name": "stdout"
        }
      ]
    },
    {
      "cell_type": "code",
      "metadata": {
        "id": "cq7TWmv5tdHC"
      },
      "source": [
        "x = df[\"Days\"].values\n",
        "y = df[\"Adj Close\"].values\n",
        "\n",
        "x = x.reshape(-1,1)"
      ],
      "execution_count": 50,
      "outputs": []
    },
    {
      "cell_type": "code",
      "metadata": {
        "colab": {
          "base_uri": "https://localhost:8080/",
          "height": 285
        },
        "id": "ZYS3VU67uYfe",
        "outputId": "89609f4f-b9d8-4890-9b0b-160e646d4d18"
      },
      "source": [
        "%matplotlib inline\n",
        "plt.scatter(df[\"Days\"], df[\"Adj Close\"])"
      ],
      "execution_count": 51,
      "outputs": [
        {
          "output_type": "execute_result",
          "data": {
            "text/plain": [
              "<matplotlib.collections.PathCollection at 0x7f843378ac10>"
            ]
          },
          "metadata": {
            "tags": []
          },
          "execution_count": 51
        },
        {
          "output_type": "display_data",
          "data": {
            "image/png": "[encoded data removed]",
            "text/plain": [
              "<Figure size 432x288 with 1 Axes>"
            ]
          },
          "metadata": {
            "tags": [],
            "needs_background": "light"
          }
        }
      ]
    },
    {
      "cell_type": "code",
      "metadata": {
        "id": "C1Fmv7VXuu6b"
      },
      "source": [
        "poly = PolynomialFeatures(degree = 9)\n",
        "x_poly = poly.fit_transform(x)"
      ],
      "execution_count": 86,
      "outputs": []
    },
    {
      "cell_type": "code",
      "metadata": {
        "colab": {
          "base_uri": "https://localhost:8080/"
        },
        "id": "AMicn20WvPtf",
        "outputId": "c85dfdf2-fc5f-44e4-e25d-d6b819ff51cb"
      },
      "source": [
        "poly.fit(x_poly, y)"
      ],
      "execution_count": 87,
      "outputs": [
        {
          "output_type": "execute_result",
          "data": {
            "text/plain": [
              "PolynomialFeatures(degree=9, include_bias=True, interaction_only=False,\n",
              "                   order='C')"
            ]
          },
          "metadata": {
            "tags": []
          },
          "execution_count": 87
        }
      ]
    },
    {
      "cell_type": "code",
      "metadata": {
        "id": "foZuZiePvWgG"
      },
      "source": [
        "lin = LinearRegression()\n",
        "lin.fit(x_poly, y)\n",
        "y_pred = lin.predict(x_poly)"
      ],
      "execution_count": 88,
      "outputs": []
    },
    {
      "cell_type": "code",
      "metadata": {
        "colab": {
          "base_uri": "https://localhost:8080/",
          "height": 285
        },
        "id": "dnHjhQqgwC4n",
        "outputId": "39d0ccf3-287d-4381-8495-38a0d820aaeb"
      },
      "source": [
        "plt.scatter(df[\"Days\"], df[\"Adj Close\"])\n",
        "plt.plot(y_pred, color = \"red\")"
      ],
      "execution_count": 84,
      "outputs": [
        {
          "output_type": "execute_result",
          "data": {
            "text/plain": [
              "[<matplotlib.lines.Line2D at 0x7f8431608510>]"
            ]
          },
          "metadata": {
            "tags": []
          },
          "execution_count": 84
        },
        {
          "output_type": "display_data",
          "data": {
            "image/png": "[encoded data removed]",
            "text/plain": [
              "<Figure size 432x288 with 1 Axes>"
            ]
          },
          "metadata": {
            "tags": [],
            "needs_background": "light"
          }
        }
      ]
    },
    {
      "cell_type": "code",
      "metadata": {
        "colab": {
          "base_uri": "https://localhost:8080/"
        },
        "id": "x5APOCOewcRv",
        "outputId": "543e5a36-79ce-4510-8f1d-142cce3a351c"
      },
      "source": [
        "r2_score(y,y_pred)"
      ],
      "execution_count": 85,
      "outputs": [
        {
          "output_type": "execute_result",
          "data": {
            "text/plain": [
              "0.896727881079519"
            ]
          },
          "metadata": {
            "tags": []
          },
          "execution_count": 85
        }
      ]
    }
  ]
}