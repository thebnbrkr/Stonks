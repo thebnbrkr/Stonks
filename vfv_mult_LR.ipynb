{
  "nbformat": 4,
  "nbformat_minor": 0,
  "metadata": {
    "colab": {
      "name": "vfv_mult_LR.ipynb",
      "provenance": [],
      "collapsed_sections": []
    },
    "kernelspec": {
      "name": "python3",
      "display_name": "Python 3"
    },
    "language_info": {
      "name": "python"
    }
  },
  "cells": [
    {
      "cell_type": "code",
      "metadata": {
        "id": "LOON2g-A70LV"
      },
      "source": [
        "import pandas as pd\n",
        "import numpy as np"
      ],
      "execution_count": null,
      "outputs": []
    },
    {
      "cell_type": "code",
      "metadata": {
        "colab": {
          "base_uri": "https://localhost:8080/"
        },
        "id": "6tzPhqXr8TDd",
        "outputId": "f14c788e-187f-49b0-f679-c0ba3fde4705"
      },
      "source": [
        "df = pd.read_csv(\"/content/vfv_for_mult_LR.csv\")\n",
        "print(df)"
      ],
      "execution_count": null,
      "outputs": [
        {
          "output_type": "stream",
          "text": [
            "           Open       High        Low      Close  Adj Close\n",
            "0     24.730000  24.730000  24.690001  24.690001  21.586576\n",
            "1     24.500000  24.690001  24.490000  24.600000  21.507891\n",
            "2     24.600000  24.600000  24.570000  24.570000  21.481657\n",
            "3     24.500000  24.660000  24.500000  24.580000  21.490400\n",
            "4     24.430000  24.430000  24.410000  24.410000  21.341770\n",
            "...         ...        ...        ...        ...        ...\n",
            "1819  78.589996  79.230003  78.550003  79.230003  77.811195\n",
            "1820  79.519997  79.680000  79.230003  79.279999  77.860298\n",
            "1821  79.540001  79.639999  79.349998  79.599998  78.174568\n",
            "1822  79.220001  79.750000  79.169998  79.519997  78.095993\n",
            "1823  79.540001  79.650002  79.269997  79.620003  78.194214\n",
            "\n",
            "[1824 rows x 5 columns]\n"
          ],
          "name": "stdout"
        }
      ]
    },
    {
      "cell_type": "code",
      "metadata": {
        "id": "lvc4ivHp8wjQ"
      },
      "source": [
        "x = df.drop([\"Adj Close\"], axis = 1).values\n",
        "y = df[\"Adj Close\"].values"
      ],
      "execution_count": null,
      "outputs": []
    },
    {
      "cell_type": "code",
      "metadata": {
        "colab": {
          "base_uri": "https://localhost:8080/"
        },
        "id": "r0WvSz7HACJW",
        "outputId": "5e6428d6-faea-4c02-9a2a-7dc32767313d"
      },
      "source": [
        "print(x)\n",
        "print(\"\")\n",
        "print(y)"
      ],
      "execution_count": null,
      "outputs": [
        {
          "output_type": "stream",
          "text": [
            "[[24.72999954 24.72999954 24.69000053 24.69000053]\n",
            " [24.5        24.69000053 24.48999977 24.60000038]\n",
            " [24.60000038 24.60000038 24.56999969 24.56999969]\n",
            " ...\n",
            " [79.54000092 79.63999939 79.34999847 79.59999847]\n",
            " [79.22000122 79.75       79.16999817 79.51999664]\n",
            " [79.54000092 79.65000153 79.26999664 79.62000275]]\n",
            "\n",
            "[21.58657646 21.5078907  21.48165703 ... 78.17456818 78.09599304\n",
            " 78.19421387]\n"
          ],
          "name": "stdout"
        }
      ]
    },
    {
      "cell_type": "code",
      "metadata": {
        "id": "8dSoRYXuEbxL"
      },
      "source": [
        "from sklearn.model_selection import train_test_split\n",
        "x_train,x_test,y_train,y_test = train_test_split(x,y, test_size = 0.7, random_state = 0)"
      ],
      "execution_count": null,
      "outputs": []
    },
    {
      "cell_type": "code",
      "metadata": {
        "colab": {
          "base_uri": "https://localhost:8080/"
        },
        "id": "1M3MfgJAFUhk",
        "outputId": "e81d1dc0-1250-403b-f194-53135fcef16e"
      },
      "source": [
        "from sklearn.linear_model import LinearRegression\n",
        "ml = LinearRegression()\n",
        "ml.fit(x_train,y_train)"
      ],
      "execution_count": null,
      "outputs": [
        {
          "output_type": "execute_result",
          "data": {
            "text/plain": [
              "LinearRegression(copy_X=True, fit_intercept=True, n_jobs=None, normalize=False)"
            ]
          },
          "metadata": {
            "tags": []
          },
          "execution_count": 79
        }
      ]
    },
    {
      "cell_type": "code",
      "metadata": {
        "colab": {
          "base_uri": "https://localhost:8080/"
        },
        "id": "ehOC0u8RGiWB",
        "outputId": "1a642343-09c2-4d07-bf82-1cb1725fb8b3"
      },
      "source": [
        "print(ml.predict(x_test))"
      ],
      "execution_count": null,
      "outputs": [
        {
          "output_type": "stream",
          "text": [
            "[45.23389213 42.73640374 24.49491109 ... 65.18844709 58.01916219\n",
            " 53.19278601]\n"
          ],
          "name": "stdout"
        }
      ]
    },
    {
      "cell_type": "code",
      "metadata": {
        "colab": {
          "base_uri": "https://localhost:8080/"
        },
        "id": "HpySKAFpG9Zt",
        "outputId": "85587e5c-ddc0-44df-a834-bfa6c0ab90ee"
      },
      "source": [
        "print(ml.predict([[24.72999954,\t24.72999954,\t24.69000053,\t24.69000053]]))"
      ],
      "execution_count": null,
      "outputs": [
        {
          "output_type": "stream",
          "text": [
            "[20.50278091]\n"
          ],
          "name": "stdout"
        }
      ]
    },
    {
      "cell_type": "markdown",
      "metadata": {
        "id": "K3XkNjDPHX84"
      },
      "source": [
        "Model Evaluation R2score"
      ]
    },
    {
      "cell_type": "code",
      "metadata": {
        "colab": {
          "base_uri": "https://localhost:8080/"
        },
        "id": "gRrMy89cHeaN",
        "outputId": "2bd386d5-0859-457b-b568-513de0efe2a0"
      },
      "source": [
        "from sklearn.metrics import r2_score\n",
        "r2_score(y_test,ml.predict(x_test))"
      ],
      "execution_count": null,
      "outputs": [
        {
          "output_type": "execute_result",
          "data": {
            "text/plain": [
              "0.9986756022666899"
            ]
          },
          "metadata": {
            "tags": []
          },
          "execution_count": 88
        }
      ]
    },
    {
      "cell_type": "code",
      "metadata": {
        "colab": {
          "base_uri": "https://localhost:8080/",
          "height": 658
        },
        "id": "M-fBxXdpSUXJ",
        "outputId": "5d49a7ed-5fdf-47de-f12b-01907361237f"
      },
      "source": [
        "import matplotlib.pyplot as plt\n",
        "plt.figure(figsize=(15,10))\n",
        "plt.scatter(y_test,ml.predict(x_test))\n",
        "plt.xlabel(\"Actual\")\n",
        "plt.ylabel(\"Predicted\")\n",
        "plt.title(\"Actual v/s Predicted\")"
      ],
      "execution_count": null,
      "outputs": [
        {
          "output_type": "execute_result",
          "data": {
            "text/plain": [
              "Text(0.5, 1.0, 'Actual v/s Predicted')"
            ]
          },
          "metadata": {
            "tags": []
          },
          "execution_count": 91
        },
        {
          "output_type": "display_data",
          "data": {
            "image/png": "[encoded data removed]",
            "text/plain": [
              "<Figure size 1080x720 with 1 Axes>"
            ]
          },
          "metadata": {
            "tags": [],
            "needs_background": "light"
          }
        }
      ]
    },
    {
      "cell_type": "code",
      "metadata": {
        "colab": {
          "base_uri": "https://localhost:8080/",
          "height": 639
        },
        "id": "kkVci2MfTLEm",
        "outputId": "b95f5870-9c72-4668-f81f-d8870bf29b6e"
      },
      "source": [
        "diff = pd.DataFrame({\"Actual Value\":y_test, \"Predicted Value\":ml.predict(x_test), \"Difference\": y_test-ml.predict(x_test)})\n",
        "diff[0:20]"
      ],
      "execution_count": null,
      "outputs": [
        {
          "output_type": "execute_result",
          "data": {
            "text/html": [
              "<div>\n",
              "<style scoped>\n",
              "    .dataframe tbody tr th:only-of-type {\n",
              "        vertical-align: middle;\n",
              "    }\n",
              "\n",
              "    .dataframe tbody tr th {\n",
              "        vertical-align: top;\n",
              "    }\n",
              "\n",
              "    .dataframe thead th {\n",
              "        text-align: right;\n",
              "    }\n",
              "</style>\n",
              "<table border=\"1\" class=\"dataframe\">\n",
              "  <thead>\n",
              "    <tr style=\"text-align: right;\">\n",
              "      <th></th>\n",
              "      <th>Actual Value</th>\n",
              "      <th>Predicted Value</th>\n",
              "      <th>Difference</th>\n",
              "    </tr>\n",
              "  </thead>\n",
              "  <tbody>\n",
              "    <tr>\n",
              "      <th>0</th>\n",
              "      <td>44.927776</td>\n",
              "      <td>45.233892</td>\n",
              "      <td>-0.306116</td>\n",
              "    </tr>\n",
              "    <tr>\n",
              "      <th>1</th>\n",
              "      <td>42.080071</td>\n",
              "      <td>42.736404</td>\n",
              "      <td>-0.656333</td>\n",
              "    </tr>\n",
              "    <tr>\n",
              "      <th>2</th>\n",
              "      <td>25.190563</td>\n",
              "      <td>24.494911</td>\n",
              "      <td>0.695652</td>\n",
              "    </tr>\n",
              "    <tr>\n",
              "      <th>3</th>\n",
              "      <td>32.065914</td>\n",
              "      <td>32.100707</td>\n",
              "      <td>-0.034793</td>\n",
              "    </tr>\n",
              "    <tr>\n",
              "      <th>4</th>\n",
              "      <td>69.679878</td>\n",
              "      <td>68.765076</td>\n",
              "      <td>0.914803</td>\n",
              "    </tr>\n",
              "    <tr>\n",
              "      <th>5</th>\n",
              "      <td>42.821346</td>\n",
              "      <td>42.953875</td>\n",
              "      <td>-0.132529</td>\n",
              "    </tr>\n",
              "    <tr>\n",
              "      <th>6</th>\n",
              "      <td>32.612865</td>\n",
              "      <td>32.562492</td>\n",
              "      <td>0.050374</td>\n",
              "    </tr>\n",
              "    <tr>\n",
              "      <th>7</th>\n",
              "      <td>68.574165</td>\n",
              "      <td>67.589685</td>\n",
              "      <td>0.984480</td>\n",
              "    </tr>\n",
              "    <tr>\n",
              "      <th>8</th>\n",
              "      <td>34.337612</td>\n",
              "      <td>34.245002</td>\n",
              "      <td>0.092610</td>\n",
              "    </tr>\n",
              "    <tr>\n",
              "      <th>9</th>\n",
              "      <td>21.175653</td>\n",
              "      <td>20.007692</td>\n",
              "      <td>1.167961</td>\n",
              "    </tr>\n",
              "    <tr>\n",
              "      <th>10</th>\n",
              "      <td>44.745895</td>\n",
              "      <td>45.371601</td>\n",
              "      <td>-0.625706</td>\n",
              "    </tr>\n",
              "    <tr>\n",
              "      <th>11</th>\n",
              "      <td>68.153549</td>\n",
              "      <td>67.426547</td>\n",
              "      <td>0.727002</td>\n",
              "    </tr>\n",
              "    <tr>\n",
              "      <th>12</th>\n",
              "      <td>66.734550</td>\n",
              "      <td>65.644639</td>\n",
              "      <td>1.089911</td>\n",
              "    </tr>\n",
              "    <tr>\n",
              "      <th>13</th>\n",
              "      <td>27.439644</td>\n",
              "      <td>27.001868</td>\n",
              "      <td>0.437776</td>\n",
              "    </tr>\n",
              "    <tr>\n",
              "      <th>14</th>\n",
              "      <td>60.998550</td>\n",
              "      <td>60.396615</td>\n",
              "      <td>0.601935</td>\n",
              "    </tr>\n",
              "    <tr>\n",
              "      <th>15</th>\n",
              "      <td>64.456596</td>\n",
              "      <td>64.156264</td>\n",
              "      <td>0.300332</td>\n",
              "    </tr>\n",
              "    <tr>\n",
              "      <th>16</th>\n",
              "      <td>34.088367</td>\n",
              "      <td>34.157685</td>\n",
              "      <td>-0.069317</td>\n",
              "    </tr>\n",
              "    <tr>\n",
              "      <th>17</th>\n",
              "      <td>27.262383</td>\n",
              "      <td>26.778745</td>\n",
              "      <td>0.483637</td>\n",
              "    </tr>\n",
              "    <tr>\n",
              "      <th>18</th>\n",
              "      <td>47.314453</td>\n",
              "      <td>47.627267</td>\n",
              "      <td>-0.312814</td>\n",
              "    </tr>\n",
              "    <tr>\n",
              "      <th>19</th>\n",
              "      <td>61.031120</td>\n",
              "      <td>61.245899</td>\n",
              "      <td>-0.214778</td>\n",
              "    </tr>\n",
              "  </tbody>\n",
              "</table>\n",
              "</div>"
            ],
            "text/plain": [
              "    Actual Value  Predicted Value  Difference\n",
              "0      44.927776        45.233892   -0.306116\n",
              "1      42.080071        42.736404   -0.656333\n",
              "2      25.190563        24.494911    0.695652\n",
              "3      32.065914        32.100707   -0.034793\n",
              "4      69.679878        68.765076    0.914803\n",
              "5      42.821346        42.953875   -0.132529\n",
              "6      32.612865        32.562492    0.050374\n",
              "7      68.574165        67.589685    0.984480\n",
              "8      34.337612        34.245002    0.092610\n",
              "9      21.175653        20.007692    1.167961\n",
              "10     44.745895        45.371601   -0.625706\n",
              "11     68.153549        67.426547    0.727002\n",
              "12     66.734550        65.644639    1.089911\n",
              "13     27.439644        27.001868    0.437776\n",
              "14     60.998550        60.396615    0.601935\n",
              "15     64.456596        64.156264    0.300332\n",
              "16     34.088367        34.157685   -0.069317\n",
              "17     27.262383        26.778745    0.483637\n",
              "18     47.314453        47.627267   -0.312814\n",
              "19     61.031120        61.245899   -0.214778"
            ]
          },
          "metadata": {
            "tags": []
          },
          "execution_count": 97
        }
      ]
    }
  ]
}